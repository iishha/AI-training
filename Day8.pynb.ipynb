{
 "cells": [
  {
   "cell_type": "code",
   "execution_count": null,
   "id": "91b27abc",
   "metadata": {},
   "outputs": [],
   "source": [
    "#OOPS\n",
    "# Class and object\n",
    "# The four pillers in oops\n",
    "# Abstraction, Encapsulation, inheritance, polymorphism  \n"
   ]
  },
  {
   "cell_type": "code",
   "execution_count": 2,
   "id": "8a48e0c1",
   "metadata": {},
   "outputs": [],
   "source": [
    "#ABSTRACTION\n",
    "# hiding the internal information\n",
    "    #Absraction means hiding internal details \n",
    "    #And showing only the necessary parts of an object or product"
   ]
  },
  {
   "cell_type": "code",
   "execution_count": null,
   "id": "bbd8f5db",
   "metadata": {},
   "outputs": [],
   "source": [
    "#Encapsulation\n",
    "#The process of protecting data\n",
    "    # It means binding the data into a single unit.\n",
    "     "
   ]
  },
  {
   "cell_type": "code",
   "execution_count": null,
   "id": "0b748aa2",
   "metadata": {},
   "outputs": [],
   "source": [
    "#Inheritance\n",
    "    #create a new class from an existing class.\n",
    "\n",
    "    "
   ]
  },
  {
   "cell_type": "code",
   "execution_count": null,
   "id": "bc9393cb",
   "metadata": {},
   "outputs": [
    {
     "name": "stdout",
     "output_type": "stream",
     "text": [
      "dog: barks\n",
      "cat: meows\n",
      "animal makes a sound\n"
     ]
    }
   ],
   "source": [
    "class animal:\n",
    "    def sound(self):\n",
    "        print(\"animal makes a sound\")\n",
    "\n",
    "class dog(animal):\n",
    "    def sound(self):\n",
    "        print(\"dog: barks\")\n",
    "\n",
    "class cat(animal):\n",
    "    def sound(self):\n",
    "        print(\"cat: meows\")\n",
    "\n",
    "# Create object\n",
    "animal=animal()\n",
    "dog=dog()\n",
    "cat=cat()\n",
    "\n",
    "# call methods\n",
    "dog.sound()\n",
    "cat.sound()\n",
    "animal.sound()"
   ]
  },
  {
   "cell_type": "code",
   "execution_count": 1,
   "id": "d7c1b2a6",
   "metadata": {},
   "outputs": [
    {
     "ename": "TypeError",
     "evalue": "Student() takes no arguments",
     "output_type": "error",
     "traceback": [
      "\u001b[31m---------------------------------------------------------------------------\u001b[39m",
      "\u001b[31mTypeError\u001b[39m                                 Traceback (most recent call last)",
      "\u001b[36mCell\u001b[39m\u001b[36m \u001b[39m\u001b[32mIn[1]\u001b[39m\u001b[32m, line 11\u001b[39m\n\u001b[32m      8\u001b[39m         \u001b[38;5;28mprint\u001b[39m(\u001b[33mf\u001b[39m\u001b[33m'\u001b[39m\u001b[33mstudent name: \u001b[39m\u001b[38;5;132;01m{\u001b[39;00m\u001b[38;5;28mself\u001b[39m.name\u001b[38;5;132;01m}\u001b[39;00m\u001b[33m'\u001b[39m)\n\u001b[32m      9\u001b[39m         \u001b[38;5;28mprint\u001b[39m(\u001b[33mf\u001b[39m\u001b[33m'\u001b[39m\u001b[33mstudent roll number: \u001b[39m\u001b[38;5;132;01m{\u001b[39;00m\u001b[38;5;28mself\u001b[39m.roll_number\u001b[38;5;132;01m}\u001b[39;00m\u001b[33m'\u001b[39m)\n\u001b[32m---> \u001b[39m\u001b[32m11\u001b[39m s1 = \u001b[43mStudent\u001b[49m\u001b[43m(\u001b[49m\u001b[33;43m'\u001b[39;49m\u001b[33;43mdilshad\u001b[39;49m\u001b[33;43m'\u001b[39;49m\u001b[43m,\u001b[49m\u001b[43m \u001b[49m\u001b[32;43m86\u001b[39;49m\u001b[43m)\u001b[49m\n\u001b[32m     12\u001b[39m s2 = Student(\u001b[33m'\u001b[39m\u001b[33mnihal\u001b[39m\u001b[33m'\u001b[39m, \u001b[32m87\u001b[39m)\n\u001b[32m     14\u001b[39m s1.display()\n",
      "\u001b[31mTypeError\u001b[39m: Student() takes no arguments"
     ]
    }
   ],
   "source": [
    "# 1. Student Management\n",
    "\n",
    "class Student:\n",
    "    def _init_(self, name, roll_number):\n",
    "        self.name = name\n",
    "        self.roll_number = roll_number\n",
    "    def display(self):\n",
    "        print(f'student name: {self.name}')\n",
    "        print(f'student roll number: {self.roll_number}')\n",
    "\n",
    "s1 = Student('dilshad', 86)\n",
    "s2 = Student('nihal', 87)\n",
    "\n",
    "s1.display()\n",
    "s2.display()\n",
    "\n"
   ]
  },
  {
   "cell_type": "code",
   "execution_count": 7,
   "id": "d03ddbe9",
   "metadata": {},
   "outputs": [
    {
     "name": "stdout",
     "output_type": "stream",
     "text": [
      "isha I am a Manager 50000\n",
      "hass I am a Developer 10000\n"
     ]
    }
   ],
   "source": [
    "# 2. Employee Hierarchy\n",
    "\n",
    "class Employee:\n",
    "    def __init__(self, name, salary):\n",
    "        self.name = name\n",
    "        self.salary = salary\n",
    "class Manager(Employee):\n",
    "    def show_role(self):\n",
    "        print(f\"{self.name} I am a Manager {self.salary}\")\n",
    "class Developer(Employee):\n",
    "    def show_role(self):\n",
    "        print(f\"{self.name} I am a Developer {self.salary}\")\n",
    "\n",
    "m1 = Manager(\"isha\",50000)\n",
    "d1 = Developer(\"hass\",10000)\n",
    "\n",
    "m1.show_role()\n",
    "d1.show_role()\n",
    "\n"
   ]
  },
  {
   "cell_type": "code",
   "execution_count": 1,
   "id": "ec411ea2",
   "metadata": {},
   "outputs": [
    {
     "name": "stdout",
     "output_type": "stream",
     "text": [
      "Some sound\n",
      "Bark\n",
      "Meow\n"
     ]
    }
   ],
   "source": [
    "# 3. Animal Sound Simulator\n",
    "\n",
    "class Animal:\n",
    "    def make_sound(self):\n",
    "        print(\"Some sound\")\n",
    "class Dog(Animal):\n",
    "    def make_sound(self):\n",
    "        print(\"Bark\")\n",
    "class Cat(Animal):\n",
    "    def make_sound(self):\n",
    "        print(\"Meow\")\n",
    "\n",
    "a1 = Animal()\n",
    "d1 = Dog()\n",
    "c1 = Cat()\n",
    "\n",
    "a1.make_sound()\n",
    "d1.make_sound()\n",
    "c1.make_sound()"
   ]
  }
 ],
 "metadata": {
  "kernelspec": {
   "display_name": "Python 3",
   "language": "python",
   "name": "python3"
  },
  "language_info": {
   "codemirror_mode": {
    "name": "ipython",
    "version": 3
   },
   "file_extension": ".py",
   "mimetype": "text/x-python",
   "name": "python",
   "nbconvert_exporter": "python",
   "pygments_lexer": "ipython3",
   "version": "3.13.2"
  }
 },
 "nbformat": 4,
 "nbformat_minor": 5
}
