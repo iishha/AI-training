{
 "cells": [
  {
   "cell_type": "code",
   "execution_count": 5,
   "id": "e2026d43",
   "metadata": {},
   "outputs": [
    {
     "name": "stdout",
     "output_type": "stream",
     "text": [
      "DDRR\n",
      "RRDD\n"
     ]
    }
   ],
   "source": [
    "def find(x, y, path):\n",
    "    if x == 2 and y == 2:\n",
    "        print(path)\n",
    "        return\n",
    "    if x + 1 <= 2 and grid[x+1][y] == 0:\n",
    "        find(x+1, y, path + \"D\")\n",
    "    if y + 1 <= 2 and grid[x][y+1] == 0:\n",
    "        find(x, y+1, path + \"R\")\n",
    "grid = [\n",
    "    [0, 0, 0],\n",
    "    [0, 1, 0],\n",
    "    [0, 0, 0]\n",
    "]\n",
    "find(0, 0, \"\")"
   ]
  },
  {
   "cell_type": "code",
   "execution_count": 8,
   "id": "5e014e8f",
   "metadata": {},
   "outputs": [
    {
     "name": "stdout",
     "output_type": "stream",
     "text": [
      "DDRR\n",
      "RRDD\n"
     ]
    }
   ],
   "source": [
    "def find(x, y, path):\n",
    "    if x == 2 and y == 2:\n",
    "        print(\"\".join(path))\n",
    "        return\n",
    "    if x + 1 <= 2 and grid[x+1][y] == 0:\n",
    "        path.append(\"D\")\n",
    "        find(x+1, y, path)\n",
    "        path.pop()\n",
    "    if y + 1 <= 2 and grid[x][y+1] == 0:\n",
    "        path.append(\"R\")\n",
    "        find(x, y+1, path)\n",
    "        path.pop()\n",
    "grid = [\n",
    "    [0, 0, 0],\n",
    "    [0, 1, 0],\n",
    "    [0, 0, 0]\n",
    "]\n",
    "find(0, 0, [])"
   ]
  },
  {
   "cell_type": "code",
   "execution_count": null,
   "id": "9f0b70b9",
   "metadata": {},
   "outputs": [],
   "source": [
    "#root  - a top node\n",
    "#child - a node that come from parent\n",
    "#leaf  - \n",
    "#hight - \n",
    "#depth - calculating levels \n",
    "#ancesters - \n",
    "#decestor  - "
   ]
  },
  {
   "cell_type": "code",
   "execution_count": 22,
   "id": "6ef4875f",
   "metadata": {},
   "outputs": [
    {
     "name": "stdout",
     "output_type": "stream",
     "text": [
      "   40\n",
      "  30\n",
      "   25\n",
      " 20\n",
      "   18\n",
      "  10\n",
      "   5\n"
     ]
    }
   ],
   "source": [
    "#Binary Tree\n",
    "#Node creation\n",
    "class Node():\n",
    "    def __init__(self,val):\n",
    "        self.val = val\n",
    "        self.left=None\n",
    "        self.right=None\n",
    "#insertion\n",
    "def insert(root,val):\n",
    "    if root is None:\n",
    "        return Node(val)\n",
    "    if val < root.val:\n",
    "        root.left = insert(root.left,val)\n",
    "    else:\n",
    "        root.right = insert(root.right , val)\n",
    "    return root\n",
    "def print_tree(Node, level=0):\n",
    "    if Node is not None:\n",
    "        print_tree(Node.right,level+1)\n",
    "        print(\" \"*level,Node.val)\n",
    "        print_tree(Node.left,level+1)\n",
    "\n",
    "val = [20,10,30,40,25,18,5]\n",
    "root = None\n",
    "for v in val:\n",
    "    root = insert(root,v) \n",
    "print_tree(root)"
   ]
  },
  {
   "cell_type": "code",
   "execution_count": null,
   "id": "5637c76f",
   "metadata": {},
   "outputs": [
    {
     "name": "stdout",
     "output_type": "stream",
     "text": [
      "   40\n",
      "  30\n",
      "   25\n",
      " 20\n",
      "   18\n",
      "  10\n",
      "   5\n",
      "Inorder Traversal\n",
      "5\n",
      "10\n",
      "18\n",
      "20\n",
      "25\n",
      "30\n",
      "40\n",
      "\n",
      "\n",
      "preorder Traversal\n",
      "20 10 5 18 30 25 40 \n",
      "\n",
      "postorder Traversal\n",
      "5\n",
      "18\n",
      "10\n",
      "25\n",
      "40\n",
      "30\n",
      "20\n",
      "\n",
      "\n"
     ]
    }
   ],
   "source": [
    "class Node():\n",
    "    def __init__(self,val):\n",
    "        self.val = val\n",
    "        self.left=None\n",
    "        self.right=None\n",
    "#insertion\n",
    "def insert(root,val):\n",
    "    if root is None:\n",
    "        return Node(val)\n",
    "    if val < root.val:\n",
    "        root.left = insert(root.left,val)\n",
    "    else:\n",
    "        root.right = insert(root.right , val)\n",
    "    return root\n",
    "#inorder\n",
    "def inorder(root):\n",
    "    if root:\n",
    "        inorder(root.left)\n",
    "        print(root.val)\n",
    "        inorder(root.right)\n",
    "\n",
    "# Preorder (root -> left -> right)\n",
    "def preorder(root):\n",
    "    if root:\n",
    "        print(root.val,end=\" \")\n",
    "        preorder(root.left)\n",
    "        preorder(root.right)\n",
    "# Postorder (left -> right -> root)\n",
    "def postorder(root):\n",
    "    if root:\n",
    "        postorder(root.left)\n",
    "        postorder(root.right)\n",
    "        print(root.val)\n",
    "\n",
    "def print_tree(Node, level=0):\n",
    "    if Node is not None:\n",
    "        print_tree(Node.right,level+1)\n",
    "        print(\" \"*level,Node.val)\n",
    "        print_tree(Node.left,level+1)\n",
    "\n",
    "val = [20,10,30,40,25,18,5]\n",
    "root = None\n",
    "for v in val:\n",
    "    root = insert(root,v) \n",
    "print_tree(root)\n",
    "print(\"Inorder Traversal\")\n",
    "inorder(root)\n",
    "print(\"\\n\")\n",
    "print(\"preorder Traversal\")\n",
    "preorder (root)\n",
    "print(\"\\n\")\n",
    "print(\"postorder Traversal\")\n",
    "postorder (root)\n",
    "print(\"\\n\")"
   ]
  },
  {
   "cell_type": "code",
   "execution_count": 28,
   "id": "cc4262c7",
   "metadata": {},
   "outputs": [
    {
     "name": "stdout",
     "output_type": "stream",
     "text": [
      "2\n"
     ]
    }
   ],
   "source": [
    "#height = max(height of left , height of right )+1\n",
    "def height(root):\n",
    "    if not root:\n",
    "        return -1\n",
    "    return 1+max(height(root.left),height(root.right))\n",
    "print(height(root))"
   ]
  },
  {
   "cell_type": "code",
   "execution_count": null,
   "id": "813a024d",
   "metadata": {},
   "outputs": [],
   "source": [
    "def count_in(root):\n",
    "    if not root:\n",
    "        return 0 \n",
    "    if not reet.left and not root.right:\n",
    "         "
   ]
  }
 ],
 "metadata": {
  "kernelspec": {
   "display_name": "Python 3",
   "language": "python",
   "name": "python3"
  },
  "language_info": {
   "codemirror_mode": {
    "name": "ipython",
    "version": 3
   },
   "file_extension": ".py",
   "mimetype": "text/x-python",
   "name": "python",
   "nbconvert_exporter": "python",
   "pygments_lexer": "ipython3",
   "version": "3.13.2"
  }
 },
 "nbformat": 4,
 "nbformat_minor": 5
}
