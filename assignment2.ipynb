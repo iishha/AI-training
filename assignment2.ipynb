{
 "cells": [
  {
   "cell_type": "code",
   "execution_count": 24,
   "id": "73b1fffc",
   "metadata": {},
   "outputs": [
    {
     "name": "stdout",
     "output_type": "stream",
     "text": [
      "Temperature out of allowed range (10-30°C).\n"
     ]
    }
   ],
   "source": [
    "# # 1. Encapsulation - smart thermostat\n",
    "\n",
    "class SmartThermostat:\n",
    "     def _init_(self):\n",
    "        self.__current_temp = 22\n",
    "        self.__target_temp = 25\n",
    "\n",
    "     def set_target_temp(self, temp):\n",
    "        if 10 <= temp <= 30:\n",
    "            self.__target_temp = temp\n",
    "            self.__control_temperature()\n",
    "        else:\n",
    "            print(\"Temperature out of allowed range (10-30°C).\")\n",
    "\n",
    "     def get_current_temp(self):\n",
    "        return self.__current_temp\n",
    "\n",
    "     def __control_temperature(self):\n",
    "        if self._current_temp < self._target_temp:\n",
    "            print(\"Heating ON\")\n",
    "        elif self._current_temp > self._target_temp:\n",
    "            print(\"Cooling ON\")\n",
    "        else:\n",
    "            print(\"Temperature stable\")\n",
    "\n",
    "thermostat = SmartThermostat()\n",
    "thermostat.set_target_temp(00)\n",
    "\n"
   ]
  },
  {
   "cell_type": "code",
   "execution_count": null,
   "id": "5078e066",
   "metadata": {},
   "outputs": [
    {
     "name": "stdout",
     "output_type": "stream",
     "text": [
      "Searching flights from New York to Paris...\n",
      "Booking ticket for flight ID: AF123\n"
     ]
    }
   ],
   "source": [
    "#2. Abstraction - Travel booking site\n",
    "\n",
    "class MyTravelApp:\n",
    "    def search_flights(self, source, destination):\n",
    "        print(f\"Searching flights from {source} to {destination}...\")\n",
    "\n",
    "    def book_ticket(self, flight_id):\n",
    "        print(f\"Booking ticket for flight ID: {flight_id}\")\n",
    "\n",
    "app = MyTravelApp()\n",
    "app.search_flights(\"New York\", \"Paris\")\n",
    "app.book_ticket(\"AF123\")\n"
   ]
  },
  {
   "cell_type": "code",
   "execution_count": null,
   "id": "17d5b214",
   "metadata": {},
   "outputs": [
    {
     "ename": "TypeError",
     "evalue": "Doctor() takes no arguments",
     "output_type": "error",
     "traceback": [
      "\u001b[31m---------------------------------------------------------------------------\u001b[39m",
      "\u001b[31mTypeError\u001b[39m                                 Traceback (most recent call last)",
      "\u001b[36mCell\u001b[39m\u001b[36m \u001b[39m\u001b[32mIn[21]\u001b[39m\u001b[32m, line 16\u001b[39m\n\u001b[32m     14\u001b[39m     \u001b[38;5;28;01mdef\u001b[39;00m\u001b[38;5;250m \u001b[39m\u001b[34massist_surgery\u001b[39m(\u001b[38;5;28mself\u001b[39m):\n\u001b[32m     15\u001b[39m         \u001b[38;5;28mprint\u001b[39m(\u001b[33mf\u001b[39m\u001b[33m\"\u001b[39m\u001b[33mNurse \u001b[39m\u001b[38;5;132;01m{\u001b[39;00m\u001b[38;5;28mself\u001b[39m.name\u001b[38;5;132;01m}\u001b[39;00m\u001b[33m is assisting in surgery.\u001b[39m\u001b[33m\"\u001b[39m)        \n\u001b[32m---> \u001b[39m\u001b[32m16\u001b[39m \u001b[38;5;28;43;01mclass\u001b[39;49;00m\u001b[38;5;250;43m \u001b[39;49m\u001b[34;43;01mReceptionist\u001b[39;49;00m\u001b[43m(\u001b[49m\u001b[43mStaff\u001b[49m\u001b[43m)\u001b[49m\u001b[43m:\u001b[49m\n\u001b[32m     17\u001b[39m \u001b[43m    \u001b[49m\u001b[38;5;28;43;01mdef\u001b[39;49;00m\u001b[38;5;250;43m \u001b[39;49m\u001b[34;43mschedule_appointments\u001b[39;49m\u001b[43m(\u001b[49m\u001b[38;5;28;43mself\u001b[39;49m\u001b[43m)\u001b[49m\u001b[43m:\u001b[49m\n\u001b[32m     18\u001b[39m \u001b[43m        \u001b[49m\u001b[38;5;28;43mprint\u001b[39;49m\u001b[43m(\u001b[49m\u001b[33;43mf\u001b[39;49m\u001b[33;43m\"\u001b[39;49m\u001b[38;5;132;43;01m{\u001b[39;49;00m\u001b[38;5;28;43mself\u001b[39;49m\u001b[43m.\u001b[49m\u001b[43mname\u001b[49m\u001b[38;5;132;43;01m}\u001b[39;49;00m\u001b[33;43m is scheduling appointments.\u001b[39;49m\u001b[33;43m\"\u001b[39;49m\u001b[43m)\u001b[49m\n",
      "\u001b[36mCell\u001b[39m\u001b[36m \u001b[39m\u001b[32mIn[21]\u001b[39m\u001b[32m, line 19\u001b[39m, in \u001b[36mReceptionist\u001b[39m\u001b[34m()\u001b[39m\n\u001b[32m     17\u001b[39m \u001b[38;5;28;01mdef\u001b[39;00m\u001b[38;5;250m \u001b[39m\u001b[34mschedule_appointments\u001b[39m(\u001b[38;5;28mself\u001b[39m):\n\u001b[32m     18\u001b[39m     \u001b[38;5;28mprint\u001b[39m(\u001b[33mf\u001b[39m\u001b[33m\"\u001b[39m\u001b[38;5;132;01m{\u001b[39;00m\u001b[38;5;28mself\u001b[39m.name\u001b[38;5;132;01m}\u001b[39;00m\u001b[33m is scheduling appointments.\u001b[39m\u001b[33m\"\u001b[39m)\n\u001b[32m---> \u001b[39m\u001b[32m19\u001b[39m doc = \u001b[43mDoctor\u001b[49m\u001b[43m(\u001b[49m\u001b[33;43m\"\u001b[39;49m\u001b[33;43mAlice\u001b[39;49m\u001b[33;43m\"\u001b[39;49m\u001b[43m,\u001b[49m\u001b[43m \u001b[49m\u001b[32;43m101\u001b[39;49m\u001b[43m,\u001b[49m\u001b[43m \u001b[49m\u001b[33;43m\"\u001b[39;49m\u001b[33;43mCardiology\u001b[39;49m\u001b[33;43m\"\u001b[39;49m\u001b[43m)\u001b[49m\n\u001b[32m     20\u001b[39m nurse = Nurse(\u001b[33m\"\u001b[39m\u001b[33mBob\u001b[39m\u001b[33m\"\u001b[39m, \u001b[32m102\u001b[39m, \u001b[33m\"\u001b[39m\u001b[33mSurgery\u001b[39m\u001b[33m\"\u001b[39m)\n\u001b[32m     21\u001b[39m Receptionist=Receptionist(\u001b[33m\"\u001b[39m\u001b[33mCharlie\u001b[39m\u001b[33m\"\u001b[39m, \u001b[32m103\u001b[39m, \u001b[33m\"\u001b[39m\u001b[33mFront Desk\u001b[39m\u001b[33m\"\u001b[39m)\n",
      "\u001b[31mTypeError\u001b[39m: Doctor() takes no arguments"
     ]
    }
   ],
   "source": [
    "\n",
    " # 3. Inheritance - Hospital management system\n",
    "\n",
    "class Staff:\n",
    "    def _init_(self, name, staff_id, department):\n",
    "        self.name = name\n",
    "        self.staff_id = staff_id\n",
    "        self.department = department\n",
    "\n",
    "class Doctor(Staff):\n",
    "    def diagnose(self):\n",
    "        print(f\"Dr. {self.name} is diagnosing patients.\")\n",
    "\n",
    "class Nurse(Staff):\n",
    "    def assist_surgery(self):\n",
    "        print(f\"Nurse {self.name} is assisting in surgery.\")        \n",
    "class Receptionist(Staff):\n",
    "    def schedule_appointments(self):\n",
    "        print(f\"{self.name} is scheduling appointments.\")\n",
    "    doc = Doctor(\"Alice\", 101, \"Cardiology\")\n",
    "    nurse = Nurse(\"Bob\", 102, \"Surgery\")\n",
    "    Receptionist=Receptionist(\"Charlie\", 103, \"Front Desk\")\n",
    "\n",
    "Doctor.diagnose()\n",
    "Nurse.assist_surgery()\n",
    "Receptionist.schedule_appointments()\n",
    "\n"
   ]
  },
  {
   "cell_type": "code",
   "execution_count": null,
   "id": "ef84f83d",
   "metadata": {},
   "outputs": [
    {
     "name": "stdout",
     "output_type": "stream",
     "text": [
      "Sending Email Notification\n",
      "Sending SMS Notification\n",
      "Sending Push Notification\n"
     ]
    }
   ],
   "source": [
    "# 4. Polymorphism - Notification system\n",
    "\n",
    "class Notification:\n",
    "    def send(self):\n",
    "        pass\n",
    "\n",
    "class EmailNotification(Notification):\n",
    "    def send(self):\n",
    "        print(\"Sending Email Notification\")\n",
    "\n",
    "class SMSNotification(Notification):\n",
    "    def send(self):\n",
    "        print(\"Sending SMS Notification\")\n",
    "\n",
    "class PushNotification(Notification):\n",
    "    def send(self):\n",
    "        print(\"Sending Push Notification\")\n",
    "\n",
    "notifications = [EmailNotification(), SMSNotification(), PushNotification()]\n",
    "for n in notifications:\n",
    "    n.send()"
   ]
  }
 ],
 "metadata": {
  "kernelspec": {
   "display_name": "Python 3",
   "language": "python",
   "name": "python3"
  },
  "language_info": {
   "codemirror_mode": {
    "name": "ipython",
    "version": 3
   },
   "file_extension": ".py",
   "mimetype": "text/x-python",
   "name": "python",
   "nbconvert_exporter": "python",
   "pygments_lexer": "ipython3",
   "version": "3.13.2"
  }
 },
 "nbformat": 4,
 "nbformat_minor": 5
}
