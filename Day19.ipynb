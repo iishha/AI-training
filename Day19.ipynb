{
 "cells": [
  {
   "cell_type": "code",
   "execution_count": 4,
   "id": "4022a322",
   "metadata": {},
   "outputs": [
    {
     "name": "stdout",
     "output_type": "stream",
     "text": [
      "wonderwomen\n"
     ]
    }
   ],
   "source": [
    "class wordbuilder:\n",
    "    def __init__(self,fragments):\n",
    "        self.fragments=fragments\n",
    "    def build(self):\n",
    "        return''.join(self.fragments)\n",
    "W= wordbuilder([\"wonder\",\"women\"])\n",
    "print(W.build())    "
   ]
  },
  {
   "cell_type": "code",
   "execution_count": 12,
   "id": "b480e429",
   "metadata": {},
   "outputs": [
    {
     "name": "stdout",
     "output_type": "stream",
     "text": [
      "Total: rs 150\n",
      "Total: rs 270.0\n",
      "Total Sales: rs 420.0\n"
     ]
    }
   ],
   "source": [
    "class Ticket:\n",
    "    def __init__(self, price):\n",
    "        self.price = price\n",
    "\n",
    "class Booth:\n",
    "    def __init__(self): \n",
    "        self.sales = 0\n",
    "    def buy(self, prices):\n",
    "        total = sum(prices)\n",
    "        if len(prices) >= 3: total *= 0.9 \n",
    "        self.sales += total\n",
    "        print(f\"Total: rs {total}\")\n",
    "    def report(self): print(f\"Total Sales: rs {self.sales}\")\n",
    "\n",
    "b = Booth()\n",
    "b.buy([100, 50])         \n",
    "b.buy([150,100, 50])\n",
    "b.report()\n"
   ]
  },
  {
   "cell_type": "code",
   "execution_count": null,
   "id": "116c7d67",
   "metadata": {},
   "outputs": [
    {
     "name": "stdout",
     "output_type": "stream",
     "text": [
      "6766651746440350011\n",
      "45\n",
      "78\n",
      "0\n"
     ]
    }
   ],
   "source": [
    "# DAY-1\n",
    "\n",
    "# Hashing -we want to convert the data into a fixed value using hash function.\n",
    "#hash()\n",
    "\n",
    "print(hash(\"Akash\"))\n",
    "print(hash(45))\n",
    "print(hash(78.0))\n",
    "print(hash(False))\n",
    "\n",
    "#Hash maps, #hash sets\n",
    "#why we use hashing-o(n^2),(o(n))\n",
    "\n"
   ]
  },
  {
   "cell_type": "code",
   "execution_count": 13,
   "id": "8ca2d516",
   "metadata": {},
   "outputs": [
    {
     "name": "stdout",
     "output_type": "stream",
     "text": [
      "12\n",
      "34\n",
      "56\n"
     ]
    }
   ],
   "source": [
    "#Time-how much it will take to execute a program\n",
    "#Space-how much space required to perform the program\n",
    "\n",
    "n=1000\n",
    "list=[12,34,56] #o(1)\n",
    "for i in list: #o(n)\n",
    "    # for j in(n+1):#o(n^2)\n",
    "#Searchinf,tree-o(logn)        \n",
    "    print(i)"
   ]
  },
  {
   "cell_type": "code",
   "execution_count": 14,
   "id": "26fd9a1b",
   "metadata": {},
   "outputs": [
    {
     "name": "stdout",
     "output_type": "stream",
     "text": [
      "6586756101419746589\n",
      "7833773091238616434\n",
      "-8227298734097393991\n"
     ]
    }
   ],
   "source": [
    "list=[\"chery\",\"candy\",\"sweety\"]\n",
    "for i in list:\n",
    "    print(hash(i))"
   ]
  },
  {
   "cell_type": "code",
   "execution_count": 15,
   "id": "1e23280d",
   "metadata": {},
   "outputs": [
    {
     "name": "stdout",
     "output_type": "stream",
     "text": [
      "{'G': 1, 'o': 3, 'd': 1, ' ': 1, 'm': 1, 'r': 1, 'n': 2, 'i': 1, 'g': 1}\n"
     ]
    }
   ],
   "source": [
    "#Hash set\n",
    "#Hash map\n",
    "#counter,dict,defaultdict\n",
    "#Good Morning-count the character\n",
    "\n",
    "a=\"Good morning\"\n",
    "b={}\n",
    "for i in a:\n",
    "    if i not in b:\n",
    "        b[i]= 1\n",
    "    else:\n",
    "        b[i]+=1\n",
    "print(b)\n"
   ]
  },
  {
   "cell_type": "code",
   "execution_count": 17,
   "id": "f83b980a",
   "metadata": {},
   "outputs": [
    {
     "name": "stdout",
     "output_type": "stream",
     "text": [
      "Counter({'a': 3, 'n': 2, 'b': 1})\n"
     ]
    }
   ],
   "source": [
    "from collections import Counter\n",
    "a=\"banana\"\n",
    "print(Counter(a))"
   ]
  },
  {
   "cell_type": "code",
   "execution_count": 18,
   "id": "ef1203f6",
   "metadata": {},
   "outputs": [
    {
     "name": "stdout",
     "output_type": "stream",
     "text": [
      "{'b': 1, 'a': 3, 'n': 2}\n"
     ]
    }
   ],
   "source": [
    "\n",
    "a=\"banana\"\n",
    "dict={}\n",
    "for ch in a:\n",
    "    if ch in dict:\n",
    "        dict[ch]+=1\n",
    "    else:\n",
    "        dict[ch]=1\n",
    "print(dict)    \n"
   ]
  },
  {
   "cell_type": "code",
   "execution_count": 1,
   "id": "e8216f7f",
   "metadata": {},
   "outputs": [
    {
     "name": "stdout",
     "output_type": "stream",
     "text": [
      "6057890871416303941\n",
      "8066053032569975971\n"
     ]
    }
   ],
   "source": [
    "#Counter , dict , defaultdict , set\n",
    "preson={\"name\":\"isha\",\"age\":18}\n",
    "print(hash(\"name\"))\n",
    "print(hash(\"age\"))"
   ]
  },
  {
   "cell_type": "code",
   "execution_count": null,
   "id": "680c8616",
   "metadata": {},
   "outputs": [],
   "source": [
    "#This hash value will help to store and we can find it \n",
    "#Hashable - it can be used as dict key or set element"
   ]
  },
  {
   "cell_type": "code",
   "execution_count": null,
   "id": "faef5574",
   "metadata": {},
   "outputs": [
    {
     "name": "stdout",
     "output_type": "stream",
     "text": [
      "isha\n"
     ]
    }
   ],
   "source": [
    "#custom class using __hash__ and __eq__ func\n",
    "class student():\n",
    "    def __init__(self,roll):\n",
    "        self.roll=roll\n",
    "    def __hash__(self):\n",
    "        return hash(self.roll)\n",
    "    def __eq__(self,other):\n",
    "        return self.roll==other.roll\n",
    "s1 = student(101)\n",
    "s2 = student(101)\n",
    "d={}\n",
    "d[s1]=\"isha\"\n",
    "print(d[s2])"
   ]
  },
  {
   "cell_type": "code",
   "execution_count": 17,
   "id": "683293b7",
   "metadata": {},
   "outputs": [
    {
     "name": "stdout",
     "output_type": "stream",
     "text": [
      "5597615225317773349\n",
      "2898686683004212906\n"
     ]
    }
   ],
   "source": [
    "#Hash collision - two different objects may return the same hash\n",
    "print(hash(\"Aa\"))\n",
    "print(hash(\"BB\"))"
   ]
  },
  {
   "cell_type": "code",
   "execution_count": 39,
   "id": "23435c72",
   "metadata": {},
   "outputs": [
    {
     "name": "stdout",
     "output_type": "stream",
     "text": [
      "['isha', 'fadal', 'sara']\n"
     ]
    }
   ],
   "source": [
    "lis1=[\"isha\",\"fadal\",\"isha\",\"sara\",\"isha\"]\n",
    "uni=[]\n",
    "for i in lis1:\n",
    "    if i not in uni:\n",
    "        uni.append(i)\n",
    "print(uni)\n"
   ]
  },
  {
   "cell_type": "code",
   "execution_count": null,
   "id": "c48d505a",
   "metadata": {},
   "outputs": [
    {
     "name": "stdout",
     "output_type": "stream",
     "text": [
      "['The', 'sat', 'on', 'the']\n",
      "------------------------------------------------------------------------------------\n",
      "['on', 'sat', 'The', 'the']\n"
     ]
    }
   ],
   "source": [
    "a = \"The cat sat on the mat\"\n",
    "b = \"The dog sat on the fog\"\n",
    "c =[]\n",
    "aa=a.split()\n",
    "bb=b.split()\n",
    "for i in aa:\n",
    "    if i in bb:\n",
    "        c.append(i)\n",
    "print(c)\n",
    "print(\"------------------------------------------------------------------------------------\")\n",
    "# using set\n",
    "a = \"The cat sat on the mat\"\n",
    "b = \"The dog sat on the fog\"\n",
    "\n",
    "result =list(set(a.split())&set(b.split()))\n",
    "\n",
    "print(result)"
   ]
  },
  {
   "cell_type": "code",
   "execution_count": null,
   "id": "3519af56",
   "metadata": {},
   "outputs": [],
   "source": [
    "def grouping(pairs):\n",
    "    list1=[]\n",
    "    for code,location in pairs:\n",
    "        found = False\n",
    "        for group in list1"
   ]
  },
  {
   "cell_type": "code",
   "execution_count": 4,
   "id": "0f3eda71",
   "metadata": {},
   "outputs": [
    {
     "name": "stdout",
     "output_type": "stream",
     "text": [
      "{'A1': ['chennai', 'mumbai'], 'B1': ['kozhikode']}\n"
     ]
    }
   ],
   "source": [
    "data = [(\"A1\",\"chennai\"),(\"B1\",\"kozhikode\",),(\"A1\",\"mumbai\")]\n",
    "dictionary = {}\n",
    "for code , location in data:\n",
    "    if code not in dictionary:\n",
    "        dictionary[code]=[]\n",
    "    dictionary[code].append(location)\n",
    "print(dictionary)"
   ]
  },
  {
   "cell_type": "code",
   "execution_count": 5,
   "id": "7f036d00",
   "metadata": {},
   "outputs": [
    {
     "name": "stdout",
     "output_type": "stream",
     "text": [
      "[4, 9]\n"
     ]
    }
   ],
   "source": [
    "nums1 = [4,9,5]\n",
    "nums2 = [9,4,8,4]\n",
    "list = []\n",
    "for i in nums1:\n",
    "    if i in nums2:\n",
    "        list.append(i)\n",
    "print(list)"
   ]
  }
 ],
 "metadata": {
  "kernelspec": {
   "display_name": "Python 3",
   "language": "python",
   "name": "python3"
  },
  "language_info": {
   "codemirror_mode": {
    "name": "ipython",
    "version": 3
   },
   "file_extension": ".py",
   "mimetype": "text/x-python",
   "name": "python",
   "nbconvert_exporter": "python",
   "pygments_lexer": "ipython3",
   "version": "3.13.2"
  }
 },
 "nbformat": 4,
 "nbformat_minor": 5
}
