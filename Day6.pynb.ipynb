{
 "cells": [
  {
   "cell_type": "code",
   "execution_count": 3,
   "id": "a2ff3a25",
   "metadata": {},
   "outputs": [],
   "source": [
    "flie =open(r\"C:\\Users\\ishat\\OneDrive\\Desktop\\Ai Using Python\\demo.txt\")"
   ]
  },
  {
   "cell_type": "code",
   "execution_count": null,
   "id": "60db4990",
   "metadata": {},
   "outputs": [],
   "source": [
    "#files are named location on the disk to store relevant information\n",
    "#operations - open(),read(),write(),append()\n",
    "\n",
    "#1.open the file location\n",
    "#2.read/write operation\n",
    "#3.close the file \n",
    "\n",
    "#the file can be a text file , binary file, csv file\n"
   ]
  },
  {
   "cell_type": "code",
   "execution_count": null,
   "id": "81de4d2c",
   "metadata": {},
   "outputs": [],
   "source": [
    "#working of open (function)\n",
    "# syntax - file =open(filepath , mode)\n",
    "# list of modes\n",
    "\n",
    "#1.r - read the file\n",
    "#2.w - write the content in the file\n",
    "#3.a - append the content\n",
    "#4.r+ - read and write the content. the \n",
    "#5.w+ - to write and read. it will override the exist\n",
    "#6.a+ - toappend and read. it wont override "
   ]
  },
  {
   "cell_type": "code",
   "execution_count": null,
   "id": "e73645e8",
   "metadata": {},
   "outputs": [
    {
     "name": "stdout",
     "output_type": "stream",
     "text": [
      "<_io.TextIOWrapper name='C:\\\\Users\\\\ishat\\\\OneDrive\\\\Desktop\\\\Ai Using Python\\\\demo.txt' mode='r' encoding='cp1252'>\n"
     ]
    }
   ],
   "source": [
    "file = open(r\"C:\\Users\\ishat\\OneDrive\\Desktop\\Ai Using Python\\demo.txt\")\n",
    "print(file)\n"
   ]
  },
  {
   "cell_type": "code",
   "execution_count": null,
   "id": "73f06142",
   "metadata": {},
   "outputs": [
    {
     "name": "stdout",
     "output_type": "stream",
     "text": [
      "<_io.TextIOWrapper name='demo.txt' mode='r' encoding='cp1252'>\n"
     ]
    },
    {
     "data": {
      "text/plain": [
       "'r'"
      ]
     },
     "execution_count": 4,
     "metadata": {},
     "output_type": "execute_result"
    }
   ],
   "source": [
    "file = open(\"demo.txt\",\"r\")\n",
    "print(file)\n",
    "file.name\n",
    "#close the file\n",
    "file.mode\n"
   ]
  },
  {
   "cell_type": "code",
   "execution_count": null,
   "id": "a0fc8a1f",
   "metadata": {},
   "outputs": [],
   "source": [
    "#reading from a file\n",
    "#1.read, 2.readline, 3.readlines\n",
    "#1.read - it reads the entire file\n",
    "#2.readline - reads a one line \n",
    "#3.readlines - it will read line by line"
   ]
  },
  {
   "cell_type": "code",
   "execution_count": null,
   "id": "ccf8acd1",
   "metadata": {},
   "outputs": [],
   "source": []
  },
  {
   "cell_type": "code",
   "execution_count": 1,
   "id": "77e38a03",
   "metadata": {},
   "outputs": [
    {
     "name": "stdout",
     "output_type": "stream",
     "text": [
      "['you guys are very smart especially bye bye bye']\n"
     ]
    }
   ],
   "source": [
    "#read()\n",
    "file = open(\"demo.txt\",\"r\")\n",
    "data1 = file.readlines()\n",
    "print(data1)\n"
   ]
  },
  {
   "cell_type": "code",
   "execution_count": 21,
   "id": "d890c140",
   "metadata": {},
   "outputs": [
    {
     "name": "stdout",
     "output_type": "stream",
     "text": [
      "<_io.TextIOWrapper name='demo.txt' mode='w' encoding='cp1252'>\n",
      "this is india\n",
      "\n"
     ]
    }
   ],
   "source": [
    "#write method\n",
    "#1.write,2.writelines\n",
    "#write - only on eline\n",
    "#\n",
    "file = open(\"demo.txt\",\"w\")\n",
    "content = \"this is india\\n\"\n",
    "file.write(content)\n",
    "print(file)\n",
    "file = open(\"demo.txt\",\"r\")\n",
    "print(file.read())"
   ]
  },
  {
   "cell_type": "code",
   "execution_count": 23,
   "id": "3e176440",
   "metadata": {},
   "outputs": [
    {
     "name": "stdout",
     "output_type": "stream",
     "text": [
      "this is india\n",
      "hi,hellowhi,hello\n",
      "good afternoon\n",
      "\n"
     ]
    }
   ],
   "source": [
    "#append\n",
    "file = open(\"demo.txt\",\"a\")\n",
    "file.write(\"hi,hello\\n\")\n",
    "file.write(\"good afternoon\\n\")\n",
    "file = open(\"demo.txt\")\n",
    "print(file.read())"
   ]
  },
  {
   "cell_type": "code",
   "execution_count": 25,
   "id": "fa454cf9",
   "metadata": {},
   "outputs": [
    {
     "name": "stdout",
     "output_type": "stream",
     "text": [
      "this is india\n",
      "hi,hellowhi,hello\n",
      "good afternoon\n",
      "python is great\n",
      "this is india\n",
      "hi,hellowhi,hello\n",
      "good afternoon\n",
      "python is greatpython is great\n"
     ]
    }
   ],
   "source": [
    "#r+ - read and write\n",
    "file = open(\"demo.txt\",\"r+\")\n",
    "content = file.read()\n",
    "print(content)\n",
    "file.write(\"python is great\")\n",
    "file = open(\"demo.txt\",\"r\")\n",
    "content = file.read()\n",
    "print(content)"
   ]
  },
  {
   "cell_type": "code",
   "execution_count": 27,
   "id": "b37cfc11",
   "metadata": {},
   "outputs": [
    {
     "name": "stdout",
     "output_type": "stream",
     "text": [
      "\n"
     ]
    }
   ],
   "source": [
    "file = open(\"demo.txt\",\"w+\")\n",
    "file.write(\"you guys are very smart especially \")\n",
    "print(file.read())#it overrides the existing"
   ]
  },
  {
   "cell_type": "code",
   "execution_count": null,
   "id": "08d30d6d",
   "metadata": {},
   "outputs": [
    {
     "name": "stdout",
     "output_type": "stream",
     "text": [
      "\n"
     ]
    }
   ],
   "source": [
    "#a+\n",
    "file = open(\"demo.txt\",\"a+\")\n",
    "file.write(\"bye bye bye\")\n",
    "print(file.read())\n"
   ]
  },
  {
   "cell_type": "code",
   "execution_count": null,
   "id": "3dc805e3",
   "metadata": {},
   "outputs": [],
   "source": [
    "#structure \n",
    "\n",
    "import pandas as pd\n",
    "file = pd.read_csv()"
   ]
  }
 ],
 "metadata": {
  "kernelspec": {
   "display_name": "Python 3",
   "language": "python",
   "name": "python3"
  },
  "language_info": {
   "codemirror_mode": {
    "name": "ipython",
    "version": 3
   },
   "file_extension": ".py",
   "mimetype": "text/x-python",
   "name": "python",
   "nbconvert_exporter": "python",
   "pygments_lexer": "ipython3",
   "version": "3.13.2"
  }
 },
 "nbformat": 4,
 "nbformat_minor": 5
}
